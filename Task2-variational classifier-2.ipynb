{
 "cells": [
  {
   "cell_type": "markdown",
   "id": "ebc0618f",
   "metadata": {},
   "source": [
    "# 1. Fitting the parity function"
   ]
  },
  {
   "cell_type": "markdown",
   "id": "1a42a8f8",
   "metadata": {},
   "source": [
    "Here by use of quantum varaiational classifier and Pennylane platform, a parit function is emulated.\n",
    "$\\newline$\n",
    "Parity function is $f: x\\in\\{0,1\\}^{\\otimes n}\\rightarrow y=\\begin{cases} 1 & \\text{if uneven number of 1's in x} \\\\0 &  \\text{else.}\\end{cases}$\n",
    "$\\newline$\n",
    "To do so we follow steps:\n",
    "$\\newline$\n",
    "1-provide the state prepartion circuit **(comparing basisencoding and IQPEmbedding)**\n",
    "$\\newline$\n",
    "2-intoduce quanutm circuit with learnable parameters in different layers\n",
    "$\\newline$\n",
    "3-introduce a cost function\n",
    "$\\newline$\n",
    "4-using optimization to optimized learning parameter via minimizing the cost function"
   ]
  },
  {
   "cell_type": "code",
   "execution_count": 1,
   "id": "0e04508c",
   "metadata": {},
   "outputs": [],
   "source": [
    "import pennylane as qml\n",
    "from pennylane import numpy as np\n",
    "from pennylane.optimize import NesterovMomentumOptimizer"
   ]
  },
  {
   "cell_type": "code",
   "execution_count": 2,
   "id": "7f57cbfe",
   "metadata": {},
   "outputs": [
    {
     "data": {
      "text/plain": [
       "'0.37.0'"
      ]
     },
     "execution_count": 2,
     "metadata": {},
     "output_type": "execute_result"
    }
   ],
   "source": [
    "qml.version()#check what version of pennylane using"
   ]
  },
  {
   "cell_type": "code",
   "execution_count": 3,
   "id": "5349432a",
   "metadata": {},
   "outputs": [],
   "source": [
    "dev = qml.device(\"default.qubit\",wires=4) #determine the device which simulates the quantum circuite"
   ]
  },
  {
   "cell_type": "markdown",
   "id": "c4bd9e7b",
   "metadata": {},
   "source": [
    "**Function layer involves #wires (=4) rotation gates indicated by Rot which needs three parameters to be defined in the first layer. After these single qubit gates, a cyclic set of CNOT gates (two-qubit gate) is applied. A quanutm circuit may have several of this layer**"
   ]
  },
  {
   "cell_type": "code",
   "execution_count": 4,
   "id": "072a5693",
   "metadata": {},
   "outputs": [],
   "source": [
    "def layer(layer_weights):\n",
    "    for wire in range(4):\n",
    "        qml.Rot(*layer_weights[wire], wires=wire)\n",
    "\n",
    "    for wires in ([0, 1], [1, 2], [2, 3], [3, 0]):\n",
    "        qml.CNOT(wires)"
   ]
  },
  {
   "cell_type": "markdown",
   "id": "0227ea25",
   "metadata": {},
   "source": [
    "In the following you find out what is the role of * before argument layer_weights[wire] of qml.Rot in above function."
   ]
  },
  {
   "cell_type": "code",
   "execution_count": 5,
   "id": "f91945b5",
   "metadata": {},
   "outputs": [
    {
     "name": "stdout",
     "output_type": "stream",
     "text": [
      "(1, 2)\n",
      "1 2\n"
     ]
    }
   ],
   "source": [
    "def ex_layer_weights(w):\n",
    "    return w[0], w[1]\n",
    "\n",
    "\n",
    "def Rot(phi, teta):\n",
    "    print(phi, teta)\n",
    "\n",
    "\n",
    "w = [1, 2]\n",
    "print(ex_layer_weights(w))\n",
    "Rot(*ex_layer_weights(w))"
   ]
  },
  {
   "cell_type": "markdown",
   "id": "0f0a831f",
   "metadata": {},
   "source": [
    "## 1-State preparation"
   ]
  },
  {
   "cell_type": "markdown",
   "id": "89e88bd5",
   "metadata": {},
   "source": [
    "**It is used basis encoding which encode bitstring 01001 in $|01001\\rangle$ by applying not gate (pauli X) on second and fifth qubits. It is clear that the number of bits in a string indicates the number of reqired qubits.**"
   ]
  },
  {
   "cell_type": "code",
   "execution_count": 6,
   "id": "026eb7d0",
   "metadata": {},
   "outputs": [],
   "source": [
    "def state_preparation(x):\n",
    "    qml.BasisState(x, wires=[0, 1, 2, 3])\n",
    "    \n",
    "#Encodes n features into n qubits using diagonal gates of an IQP circuit.    \n",
    "def state_preparation_n(x):\n",
    "    qml.IQPEmbedding(x, wires=[0, 1, 2, 3], n_repeats=1)"
   ]
  },
  {
   "cell_type": "markdown",
   "id": "f11912d6",
   "metadata": {},
   "source": [
    "## 2-Quantum circuit "
   ]
  },
  {
   "cell_type": "markdown",
   "id": "e4db26dc",
   "metadata": {},
   "source": [
    "**It consists of state preparation and parametrized quantum circuit. In the measurment part only the expectation value of pauli $Z$ of qubit 0 is evaluated.**"
   ]
  },
  {
   "cell_type": "code",
   "execution_count": 7,
   "id": "95492727",
   "metadata": {},
   "outputs": [],
   "source": [
    "@qml.qnode(dev)\n",
    "def circuit(weights, x):\n",
    "    state_preparation(x)\n",
    "\n",
    "    for layer_weights in weights:\n",
    "        layer(layer_weights)\n",
    "\n",
    "    return qml.expval(qml.PauliZ(0))\n",
    "@qml.qnode(dev)\n",
    "def circuit_n(weights, x):\n",
    "    state_preparation(x)\n",
    "\n",
    "    for layer_weights in weights:\n",
    "        layer(layer_weights)\n",
    "\n",
    "    return qml.expval(qml.PauliZ(0))"
   ]
  },
  {
   "cell_type": "markdown",
   "id": "da8736ae",
   "metadata": {},
   "source": [
    "Function entitled variational_classifier introduce learnable parameters, i.e., a bias to the output of the circuit."
   ]
  },
  {
   "cell_type": "code",
   "execution_count": 8,
   "id": "0f455e4c",
   "metadata": {},
   "outputs": [],
   "source": [
    "def variational_classifier(weights, bias, x):\n",
    "    return circuit(weights, x) + bias\n",
    "\n",
    "def variational_classifier_n(weights, bias, x):\n",
    "    return circuit_n(weights, x) + bias"
   ]
  },
  {
   "cell_type": "markdown",
   "id": "42a6a9aa",
   "metadata": {},
   "source": [
    "Function entitled square_loss calculates L2 norm between the real lables and predicted labels. "
   ]
  },
  {
   "cell_type": "code",
   "execution_count": 9,
   "id": "eb661f40",
   "metadata": {},
   "outputs": [],
   "source": [
    "def square_loss(labels, predictions):\n",
    "    # We use a call to qml.math.stack to allow subtracting the arrays directly\n",
    "    return np.mean((labels - qml.math.stack(predictions)) ** 2)"
   ]
  },
  {
   "cell_type": "markdown",
   "id": "0583ebe5",
   "metadata": {},
   "source": [
    "Function accuracy numerates the number of predicted lables which are as close as the real lables with the precision of 1e-5."
   ]
  },
  {
   "cell_type": "code",
   "execution_count": 10,
   "id": "9526b5bd",
   "metadata": {},
   "outputs": [],
   "source": [
    "def accuracy(labels, predictions):\n",
    "    acc = sum(abs(l - p) < 1e-5 for l, p in zip(labels, predictions))\n",
    "    acc = acc / len(labels)\n",
    "    return acc"
   ]
  },
  {
   "cell_type": "markdown",
   "id": "ee41be9f",
   "metadata": {},
   "source": [
    "## 3-cost function"
   ]
  },
  {
   "cell_type": "markdown",
   "id": "0a56084b",
   "metadata": {},
   "source": [
    "Function cost introduces a loss function for training the parameters (weights and bias)."
   ]
  },
  {
   "cell_type": "code",
   "execution_count": 11,
   "id": "d75c29f6",
   "metadata": {},
   "outputs": [],
   "source": [
    "def cost(weights, bias, X, Y):\n",
    "    predictions = [variational_classifier(weights, bias, x) for x in X]\n",
    "    return square_loss(Y, predictions)\n",
    "\n",
    "def cost_n(weights, bias, X, Y):\n",
    "    predictions = [variational_classifier_n(weights, bias, x) for x in X]\n",
    "    return square_loss(Y, predictions)"
   ]
  },
  {
   "cell_type": "markdown",
   "id": "7b7c3444",
   "metadata": {},
   "source": [
    "The training and test date are provided (visit:https://pennylane.ai/qml/demos/tutorial_variational_classifier/)"
   ]
  },
  {
   "cell_type": "code",
   "execution_count": 12,
   "id": "1fd4fe91",
   "metadata": {},
   "outputs": [
    {
     "name": "stdout",
     "output_type": "stream",
     "text": [
      "x = [0 0 0 1], y = 1\n",
      "x = [0 0 1 0], y = 1\n",
      "x = [0 1 0 0], y = 1\n",
      "x = [0 1 0 1], y = -1\n",
      "x = [0 1 1 0], y = -1\n",
      "x = [0 1 1 1], y = 1\n",
      "x = [1 0 0 0], y = 1\n",
      "x = [1 0 0 1], y = -1\n",
      "x = [1 0 1 1], y = 1\n",
      "x = [1 1 1 1], y = -1\n"
     ]
    }
   ],
   "source": [
    "data = np.loadtxt(\"variational_classifier/data/parity_train.txt\", dtype=int)\n",
    "X = np.array(data[:, :-1])\n",
    "Y = np.array(data[:, -1])\n",
    "Y = Y * 2 - 1  # shift label from {0, 1} to {-1, 1}\n",
    "\n",
    "for x,y in zip(X, Y):\n",
    "    print(f\"x = {x}, y = {y}\")"
   ]
  },
  {
   "cell_type": "markdown",
   "id": "9c9349a0",
   "metadata": {},
   "source": [
    "Number of qubits and number of layers and intialization of weights and bias are determined. "
   ]
  },
  {
   "cell_type": "code",
   "execution_count": 13,
   "id": "28560e32",
   "metadata": {},
   "outputs": [
    {
     "name": "stdout",
     "output_type": "stream",
     "text": [
      "Weights: [[[ 0.01764052  0.00400157  0.00978738]\n",
      "  [ 0.02240893  0.01867558 -0.00977278]\n",
      "  [ 0.00950088 -0.00151357 -0.00103219]\n",
      "  [ 0.00410599  0.00144044  0.01454274]]\n",
      "\n",
      " [[ 0.00761038  0.00121675  0.00443863]\n",
      "  [ 0.00333674  0.01494079 -0.00205158]\n",
      "  [ 0.00313068 -0.00854096 -0.0255299 ]\n",
      "  [ 0.00653619  0.00864436 -0.00742165]]]\n",
      "Bias:  0.0\n"
     ]
    }
   ],
   "source": [
    "np.random.seed(0)\n",
    "num_qubits = 4\n",
    "num_layers = 2\n",
    "weights_init = 0.01 * np.random.randn(num_layers, num_qubits, 3, requires_grad=True)\n",
    "bias_init = np.array(0.0, requires_grad=True)\n",
    "\n",
    "print(\"Weights:\", weights_init)\n",
    "print(\"Bias: \", bias_init)"
   ]
  },
  {
   "cell_type": "markdown",
   "id": "e98d5584",
   "metadata": {},
   "source": [
    "For beginner of python in following one finds what qml.math.stack does to the data. "
   ]
  },
  {
   "cell_type": "code",
   "execution_count": 14,
   "id": "c0ad8495",
   "metadata": {},
   "outputs": [
    {
     "name": "stdout",
     "output_type": "stream",
     "text": [
      "-0.9996315872705979\n",
      "\n",
      "[tensor(-0.99963159, requires_grad=True), tensor(0.99963075, requires_grad=True), tensor(-0.99963159, requires_grad=True), tensor(0.9996316, requires_grad=True), tensor(-0.99963074, requires_grad=True), tensor(0.99963075, requires_grad=True), tensor(-0.99963075, requires_grad=True), tensor(0.99963074, requires_grad=True), tensor(0.99963159, requires_grad=True), tensor(-0.9996316, requires_grad=True)]\n",
      "\n",
      "[-0.99963159  0.99963075 -0.99963159  0.9996316  -0.99963074  0.99963075\n",
      " -0.99963075  0.99963074  0.99963159 -0.9996316 ]\n"
     ]
    }
   ],
   "source": [
    "a = variational_classifier(weights_init, bias_init, X[0])\n",
    "b = [variational_classifier(weights_init, bias_init, x) for x in X]\n",
    "c = qml.math.stack(b)\n",
    "print(a)\n",
    "print()\n",
    "print(b)\n",
    "print()\n",
    "print(c)"
   ]
  },
  {
   "cell_type": "markdown",
   "id": "6d78bd31",
   "metadata": {},
   "source": [
    "**Demonstration of the quantum circuit.**"
   ]
  },
  {
   "cell_type": "code",
   "execution_count": 15,
   "id": "ef21ebd3",
   "metadata": {},
   "outputs": [
    {
     "data": {
      "image/png": "[encoded data removed]",
      "text/plain": [
       "<Figure size 1400x500 with 1 Axes>"
      ]
     },
     "metadata": {},
     "output_type": "display_data"
    }
   ],
   "source": [
    "import matplotlib.pyplot as plt\n",
    "qml.drawer.use_style(\"black_white\")\n",
    "fig, ax = qml.draw_mpl(circuit)(weights_init, X)\n",
    "plt.show()"
   ]
  },
  {
   "cell_type": "markdown",
   "id": "519fb0ef",
   "metadata": {},
   "source": [
    "## 4-Optimization and training"
   ]
  },
  {
   "cell_type": "code",
   "execution_count": 16,
   "id": "a38a25a4",
   "metadata": {},
   "outputs": [],
   "source": [
    "opt = NesterovMomentumOptimizer(0.5)\n",
    "batch_size = 5"
   ]
  },
  {
   "cell_type": "markdown",
   "id": "5d291612",
   "metadata": {},
   "source": [
    "**For beginner to python**"
   ]
  },
  {
   "cell_type": "code",
   "execution_count": 17,
   "id": "89ece828",
   "metadata": {},
   "outputs": [
    {
     "name": "stdout",
     "output_type": "stream",
     "text": [
      "[7 2 0 0 4] , |X|= 10 , batch_size= (5,)\n"
     ]
    }
   ],
   "source": [
    "batch_index = np.random.randint(0, len(X), (batch_size,))\n",
    "print(batch_index,',','|X|=',len(X),',','batch_size=',(batch_size,))"
   ]
  },
  {
   "cell_type": "code",
   "execution_count": 18,
   "id": "24c25504",
   "metadata": {},
   "outputs": [
    {
     "data": {
      "text/plain": [
       "tensor([7, 2, 0, 0, 4], requires_grad=True)"
      ]
     },
     "execution_count": 18,
     "metadata": {},
     "output_type": "execute_result"
    }
   ],
   "source": [
    "batch_index"
   ]
  },
  {
   "cell_type": "code",
   "execution_count": 19,
   "id": "7e32f9c2",
   "metadata": {},
   "outputs": [
    {
     "data": {
      "text/plain": [
       "tensor([[1, 0, 0, 1],\n",
       "        [0, 1, 0, 0],\n",
       "        [0, 0, 0, 1],\n",
       "        [0, 0, 0, 1],\n",
       "        [0, 1, 1, 0]], requires_grad=True)"
      ]
     },
     "execution_count": 19,
     "metadata": {},
     "output_type": "execute_result"
    }
   ],
   "source": [
    "X_batch = X[batch_index]\n",
    "X_batch"
   ]
  },
  {
   "cell_type": "markdown",
   "id": "66bf2808",
   "metadata": {},
   "source": [
    "Weights and bias iteratively are updated by NesterovMomentumOptimizer(0.5)"
   ]
  },
  {
   "cell_type": "code",
   "execution_count": 20,
   "id": "4573918f",
   "metadata": {},
   "outputs": [
    {
     "name": "stdout",
     "output_type": "stream",
     "text": [
      "Iter:    1 | Cost: 1.9985847 | Accuracy: 0.5000000\n",
      "Iter:    2 | Cost: 1.9968864 | Accuracy: 0.5000000\n",
      "Iter:    3 | Cost: 2.9444160 | Accuracy: 0.5000000\n",
      "Iter:    4 | Cost: 1.6996819 | Accuracy: 0.5000000\n",
      "Iter:    5 | Cost: 1.8127072 | Accuracy: 0.5000000\n",
      "Iter:    6 | Cost: 2.2275757 | Accuracy: 0.5000000\n",
      "Iter:    7 | Cost: 2.7902642 | Accuracy: 0.5000000\n",
      "Iter:    8 | Cost: 1.8201117 | Accuracy: 0.5000000\n",
      "Iter:    9 | Cost: 1.2341103 | Accuracy: 0.4000000\n",
      "Iter:   10 | Cost: 0.9850669 | Accuracy: 0.6000000\n",
      "Iter:   11 | Cost: 0.9696628 | Accuracy: 0.4000000\n",
      "Iter:   12 | Cost: 1.1294192 | Accuracy: 0.6000000\n",
      "Iter:   13 | Cost: 2.1292253 | Accuracy: 0.4000000\n",
      "Iter:   14 | Cost: 0.9336925 | Accuracy: 0.5000000\n",
      "Iter:   15 | Cost: 1.1321898 | Accuracy: 0.6000000\n",
      "Iter:   16 | Cost: 1.3851188 | Accuracy: 0.6000000\n",
      "Iter:   17 | Cost: 1.1801214 | Accuracy: 0.5000000\n",
      "Iter:   18 | Cost: 1.5021596 | Accuracy: 0.5000000\n",
      "Iter:   19 | Cost: 1.5894239 | Accuracy: 0.6000000\n",
      "Iter:   20 | Cost: 1.4247532 | Accuracy: 0.4000000\n",
      "Iter:   21 | Cost: 1.4625266 | Accuracy: 0.4000000\n",
      "Iter:   22 | Cost: 1.0306756 | Accuracy: 0.7000000\n",
      "Iter:   23 | Cost: 0.9745186 | Accuracy: 0.6000000\n",
      "Iter:   24 | Cost: 0.5024494 | Accuracy: 0.9000000\n",
      "Iter:   25 | Cost: 1.1126775 | Accuracy: 0.5000000\n",
      "Iter:   26 | Cost: 1.3331845 | Accuracy: 0.6000000\n",
      "Iter:   27 | Cost: 0.9666085 | Accuracy: 0.6000000\n",
      "Iter:   28 | Cost: 0.7984028 | Accuracy: 0.7000000\n",
      "Iter:   29 | Cost: 1.0937186 | Accuracy: 0.6000000\n",
      "Iter:   30 | Cost: 1.1011884 | Accuracy: 0.4000000\n",
      "Iter:   31 | Cost: 0.9121190 | Accuracy: 0.6000000\n",
      "Iter:   32 | Cost: 2.0152484 | Accuracy: 0.4000000\n",
      "Iter:   33 | Cost: 1.3312828 | Accuracy: 0.4000000\n",
      "Iter:   34 | Cost: 0.5532147 | Accuracy: 0.9000000\n",
      "Iter:   35 | Cost: 1.3780890 | Accuracy: 0.6000000\n",
      "Iter:   36 | Cost: 1.4773671 | Accuracy: 0.6000000\n",
      "Iter:   37 | Cost: 1.9972170 | Accuracy: 0.6000000\n",
      "Iter:   38 | Cost: 0.9680787 | Accuracy: 0.6000000\n",
      "Iter:   39 | Cost: 1.2101118 | Accuracy: 0.4000000\n",
      "Iter:   40 | Cost: 1.0947478 | Accuracy: 0.6000000\n",
      "Iter:   41 | Cost: 0.7076483 | Accuracy: 0.6000000\n",
      "Iter:   42 | Cost: 0.8517855 | Accuracy: 0.7000000\n",
      "Iter:   43 | Cost: 0.9655742 | Accuracy: 0.5000000\n",
      "Iter:   44 | Cost: 0.9004621 | Accuracy: 0.5000000\n",
      "Iter:   45 | Cost: 0.6074395 | Accuracy: 0.8000000\n",
      "Iter:   46 | Cost: 0.7220814 | Accuracy: 0.6000000\n",
      "Iter:   47 | Cost: 0.7479522 | Accuracy: 0.7000000\n",
      "Iter:   48 | Cost: 0.5776537 | Accuracy: 0.9000000\n",
      "Iter:   49 | Cost: 0.2716378 | Accuracy: 1.0000000\n",
      "Iter:   50 | Cost: 0.0306638 | Accuracy: 1.0000000\n",
      "Iter:   51 | Cost: 0.0169243 | Accuracy: 1.0000000\n",
      "Iter:   52 | Cost: 0.0278333 | Accuracy: 1.0000000\n",
      "Iter:   53 | Cost: 0.0430148 | Accuracy: 1.0000000\n",
      "Iter:   54 | Cost: 0.0297566 | Accuracy: 1.0000000\n",
      "Iter:   55 | Cost: 0.0155586 | Accuracy: 1.0000000\n",
      "Iter:   56 | Cost: 0.0125309 | Accuracy: 1.0000000\n",
      "Iter:   57 | Cost: 0.0074824 | Accuracy: 1.0000000\n",
      "Iter:   58 | Cost: 0.0064910 | Accuracy: 1.0000000\n",
      "Iter:   59 | Cost: 0.0061254 | Accuracy: 1.0000000\n",
      "Iter:   60 | Cost: 0.0074806 | Accuracy: 1.0000000\n",
      "Iter:   61 | Cost: 0.0051521 | Accuracy: 1.0000000\n",
      "Iter:   62 | Cost: 0.0029168 | Accuracy: 1.0000000\n",
      "Iter:   63 | Cost: 0.0018927 | Accuracy: 1.0000000\n",
      "Iter:   64 | Cost: 0.0011600 | Accuracy: 1.0000000\n",
      "Iter:   65 | Cost: 0.0009467 | Accuracy: 1.0000000\n",
      "Iter:   66 | Cost: 0.0008937 | Accuracy: 1.0000000\n",
      "Iter:   67 | Cost: 0.0008504 | Accuracy: 1.0000000\n",
      "Iter:   68 | Cost: 0.0009591 | Accuracy: 1.0000000\n",
      "Iter:   69 | Cost: 0.0011692 | Accuracy: 1.0000000\n",
      "Iter:   70 | Cost: 0.0010249 | Accuracy: 1.0000000\n",
      "Iter:   71 | Cost: 0.0011528 | Accuracy: 1.0000000\n",
      "Iter:   72 | Cost: 0.0008151 | Accuracy: 1.0000000\n",
      "Iter:   73 | Cost: 0.0008508 | Accuracy: 1.0000000\n",
      "Iter:   74 | Cost: 0.0005866 | Accuracy: 1.0000000\n",
      "Iter:   75 | Cost: 0.0004126 | Accuracy: 1.0000000\n",
      "Iter:   76 | Cost: 0.0003008 | Accuracy: 1.0000000\n",
      "Iter:   77 | Cost: 0.0002355 | Accuracy: 1.0000000\n",
      "Iter:   78 | Cost: 0.0001889 | Accuracy: 1.0000000\n",
      "Iter:   79 | Cost: 0.0001216 | Accuracy: 1.0000000\n",
      "Iter:   80 | Cost: 0.0000788 | Accuracy: 1.0000000\n",
      "Iter:   81 | Cost: 0.0000582 | Accuracy: 1.0000000\n",
      "Iter:   82 | Cost: 0.0000474 | Accuracy: 1.0000000\n",
      "Iter:   83 | Cost: 0.0000279 | Accuracy: 1.0000000\n",
      "Iter:   84 | Cost: 0.0000223 | Accuracy: 1.0000000\n",
      "Iter:   85 | Cost: 0.0000165 | Accuracy: 1.0000000\n",
      "Iter:   86 | Cost: 0.0000324 | Accuracy: 1.0000000\n",
      "Iter:   87 | Cost: 0.0000114 | Accuracy: 1.0000000\n",
      "Iter:   88 | Cost: 0.0000105 | Accuracy: 1.0000000\n",
      "Iter:   89 | Cost: 0.0000116 | Accuracy: 1.0000000\n",
      "Iter:   90 | Cost: 0.0000100 | Accuracy: 1.0000000\n",
      "Iter:   91 | Cost: 0.0000102 | Accuracy: 1.0000000\n",
      "Iter:   92 | Cost: 0.0000122 | Accuracy: 1.0000000\n",
      "Iter:   93 | Cost: 0.0000120 | Accuracy: 1.0000000\n",
      "Iter:   94 | Cost: 0.0000140 | Accuracy: 1.0000000\n",
      "Iter:   95 | Cost: 0.0000227 | Accuracy: 1.0000000\n",
      "Iter:   96 | Cost: 0.0000130 | Accuracy: 1.0000000\n",
      "Iter:   97 | Cost: 0.0000137 | Accuracy: 1.0000000\n",
      "Iter:   98 | Cost: 0.0000210 | Accuracy: 1.0000000\n",
      "Iter:   99 | Cost: 0.0000138 | Accuracy: 1.0000000\n",
      "Iter:  100 | Cost: 0.0000154 | Accuracy: 1.0000000\n"
     ]
    }
   ],
   "source": [
    "weights = weights_init\n",
    "bias = bias_init\n",
    "for it in range(100):\n",
    "\n",
    "    # Update the weights by one optimizer step, using only a limited batch of data\n",
    "    batch_index = np.random.randint(0, len(X), (batch_size,))\n",
    "    X_batch = X[batch_index]\n",
    "    Y_batch = Y[batch_index]\n",
    "    weights, bias = opt.step(cost, weights, bias, X=X_batch, Y=Y_batch)\n",
    "\n",
    "    # Compute accuracy\n",
    "    predictions = [np.sign(variational_classifier(weights, bias, x)) for x in X]\n",
    "\n",
    "    current_cost = cost(weights, bias, X, Y)\n",
    "    acc = accuracy(Y, predictions)\n",
    "\n",
    "    print(f\"Iter: {it+1:4d} | Cost: {current_cost:0.7f} | Accuracy: {acc:0.7f}\")"
   ]
  },
  {
   "cell_type": "markdown",
   "id": "b62f9cbf",
   "metadata": {},
   "source": [
    "# Now we use IQPEmbedding (note that after 22 iretation accuracy convergaes to 1. However, basisencoding requires 41.)"
   ]
  },
  {
   "cell_type": "code",
   "execution_count": 21,
   "id": "302b90cb",
   "metadata": {},
   "outputs": [
    {
     "name": "stdout",
     "output_type": "stream",
     "text": [
      "Iter:    1 | Cost: 1.9962340 | Accuracy: 0.5000000\n",
      "Iter:    2 | Cost: 2.2895355 | Accuracy: 0.5000000\n",
      "Iter:    3 | Cost: 1.8089367 | Accuracy: 0.5000000\n",
      "Iter:    4 | Cost: 1.0294440 | Accuracy: 0.7000000\n",
      "Iter:    5 | Cost: 1.0636633 | Accuracy: 0.6000000\n",
      "Iter:    6 | Cost: 0.9531088 | Accuracy: 0.6000000\n",
      "Iter:    7 | Cost: 1.5555067 | Accuracy: 0.6000000\n",
      "Iter:    8 | Cost: 0.9691189 | Accuracy: 0.5000000\n",
      "Iter:    9 | Cost: 1.7955508 | Accuracy: 0.6000000\n",
      "Iter:   10 | Cost: 1.6932347 | Accuracy: 0.4000000\n",
      "Iter:   11 | Cost: 1.3492208 | Accuracy: 0.4000000\n",
      "Iter:   12 | Cost: 1.3475815 | Accuracy: 0.4000000\n",
      "Iter:   13 | Cost: 0.9844874 | Accuracy: 0.6000000\n",
      "Iter:   14 | Cost: 1.0972268 | Accuracy: 0.4000000\n",
      "Iter:   15 | Cost: 1.0557568 | Accuracy: 0.4000000\n",
      "Iter:   16 | Cost: 0.8614362 | Accuracy: 0.6000000\n",
      "Iter:   17 | Cost: 1.2200153 | Accuracy: 0.8000000\n",
      "Iter:   18 | Cost: 1.0417840 | Accuracy: 0.7000000\n",
      "Iter:   19 | Cost: 0.9509019 | Accuracy: 0.4000000\n",
      "Iter:   20 | Cost: 0.8133375 | Accuracy: 0.5000000\n",
      "Iter:   21 | Cost: 0.5394953 | Accuracy: 0.9000000\n",
      "Iter:   22 | Cost: 0.1302424 | Accuracy: 1.0000000\n",
      "Iter:   23 | Cost: 0.0295383 | Accuracy: 1.0000000\n",
      "Iter:   24 | Cost: 0.0554083 | Accuracy: 1.0000000\n",
      "Iter:   25 | Cost: 0.0697770 | Accuracy: 1.0000000\n",
      "Iter:   26 | Cost: 0.1038693 | Accuracy: 1.0000000\n",
      "Iter:   27 | Cost: 0.0464081 | Accuracy: 1.0000000\n",
      "Iter:   28 | Cost: 0.0783374 | Accuracy: 1.0000000\n",
      "Iter:   29 | Cost: 0.0151399 | Accuracy: 1.0000000\n",
      "Iter:   30 | Cost: 0.0082843 | Accuracy: 1.0000000\n",
      "Iter:   31 | Cost: 0.0071664 | Accuracy: 1.0000000\n",
      "Iter:   32 | Cost: 0.0048246 | Accuracy: 1.0000000\n",
      "Iter:   33 | Cost: 0.0075429 | Accuracy: 1.0000000\n",
      "Iter:   34 | Cost: 0.0117132 | Accuracy: 1.0000000\n",
      "Iter:   35 | Cost: 0.0085602 | Accuracy: 1.0000000\n",
      "Iter:   36 | Cost: 0.0071992 | Accuracy: 1.0000000\n",
      "Iter:   37 | Cost: 0.0043102 | Accuracy: 1.0000000\n",
      "Iter:   38 | Cost: 0.0031199 | Accuracy: 1.0000000\n",
      "Iter:   39 | Cost: 0.0018456 | Accuracy: 1.0000000\n",
      "Iter:   40 | Cost: 0.0011109 | Accuracy: 1.0000000\n",
      "Iter:   41 | Cost: 0.0005977 | Accuracy: 1.0000000\n",
      "Iter:   42 | Cost: 0.0007604 | Accuracy: 1.0000000\n",
      "Iter:   43 | Cost: 0.0004529 | Accuracy: 1.0000000\n",
      "Iter:   44 | Cost: 0.0003528 | Accuracy: 1.0000000\n",
      "Iter:   45 | Cost: 0.0003716 | Accuracy: 1.0000000\n",
      "Iter:   46 | Cost: 0.0004707 | Accuracy: 1.0000000\n",
      "Iter:   47 | Cost: 0.0004791 | Accuracy: 1.0000000\n",
      "Iter:   48 | Cost: 0.0006355 | Accuracy: 1.0000000\n",
      "Iter:   49 | Cost: 0.0006068 | Accuracy: 1.0000000\n",
      "Iter:   50 | Cost: 0.0004214 | Accuracy: 1.0000000\n",
      "Iter:   51 | Cost: 0.0004382 | Accuracy: 1.0000000\n",
      "Iter:   52 | Cost: 0.0003271 | Accuracy: 1.0000000\n",
      "Iter:   53 | Cost: 0.0003252 | Accuracy: 1.0000000\n",
      "Iter:   54 | Cost: 0.0002285 | Accuracy: 1.0000000\n",
      "Iter:   55 | Cost: 0.0002209 | Accuracy: 1.0000000\n",
      "Iter:   56 | Cost: 0.0001520 | Accuracy: 1.0000000\n",
      "Iter:   57 | Cost: 0.0001215 | Accuracy: 1.0000000\n",
      "Iter:   58 | Cost: 0.0001125 | Accuracy: 1.0000000\n",
      "Iter:   59 | Cost: 0.0000943 | Accuracy: 1.0000000\n",
      "Iter:   60 | Cost: 0.0000642 | Accuracy: 1.0000000\n",
      "Iter:   61 | Cost: 0.0000523 | Accuracy: 1.0000000\n",
      "Iter:   62 | Cost: 0.0000429 | Accuracy: 1.0000000\n",
      "Iter:   63 | Cost: 0.0000403 | Accuracy: 1.0000000\n",
      "Iter:   64 | Cost: 0.0000293 | Accuracy: 1.0000000\n",
      "Iter:   65 | Cost: 0.0000283 | Accuracy: 1.0000000\n",
      "Iter:   66 | Cost: 0.0000204 | Accuracy: 1.0000000\n",
      "Iter:   67 | Cost: 0.0000173 | Accuracy: 1.0000000\n",
      "Iter:   68 | Cost: 0.0000148 | Accuracy: 1.0000000\n",
      "Iter:   69 | Cost: 0.0000129 | Accuracy: 1.0000000\n",
      "Iter:   70 | Cost: 0.0000283 | Accuracy: 1.0000000\n",
      "Iter:   71 | Cost: 0.0000115 | Accuracy: 1.0000000\n",
      "Iter:   72 | Cost: 0.0000149 | Accuracy: 1.0000000\n",
      "Iter:   73 | Cost: 0.0000080 | Accuracy: 1.0000000\n",
      "Iter:   74 | Cost: 0.0000072 | Accuracy: 1.0000000\n",
      "Iter:   75 | Cost: 0.0000076 | Accuracy: 1.0000000\n",
      "Iter:   76 | Cost: 0.0000069 | Accuracy: 1.0000000\n",
      "Iter:   77 | Cost: 0.0000068 | Accuracy: 1.0000000\n",
      "Iter:   78 | Cost: 0.0000062 | Accuracy: 1.0000000\n",
      "Iter:   79 | Cost: 0.0000055 | Accuracy: 1.0000000\n",
      "Iter:   80 | Cost: 0.0000051 | Accuracy: 1.0000000\n",
      "Iter:   81 | Cost: 0.0000068 | Accuracy: 1.0000000\n",
      "Iter:   82 | Cost: 0.0000039 | Accuracy: 1.0000000\n",
      "Iter:   83 | Cost: 0.0000037 | Accuracy: 1.0000000\n",
      "Iter:   84 | Cost: 0.0000056 | Accuracy: 1.0000000\n",
      "Iter:   85 | Cost: 0.0000038 | Accuracy: 1.0000000\n",
      "Iter:   86 | Cost: 0.0000052 | Accuracy: 1.0000000\n",
      "Iter:   87 | Cost: 0.0000031 | Accuracy: 1.0000000\n",
      "Iter:   88 | Cost: 0.0000032 | Accuracy: 1.0000000\n",
      "Iter:   89 | Cost: 0.0000027 | Accuracy: 1.0000000\n",
      "Iter:   90 | Cost: 0.0000025 | Accuracy: 1.0000000\n",
      "Iter:   91 | Cost: 0.0000024 | Accuracy: 1.0000000\n",
      "Iter:   92 | Cost: 0.0000039 | Accuracy: 1.0000000\n",
      "Iter:   93 | Cost: 0.0000037 | Accuracy: 1.0000000\n",
      "Iter:   94 | Cost: 0.0000023 | Accuracy: 1.0000000\n",
      "Iter:   95 | Cost: 0.0000025 | Accuracy: 1.0000000\n",
      "Iter:   96 | Cost: 0.0000019 | Accuracy: 1.0000000\n",
      "Iter:   97 | Cost: 0.0000030 | Accuracy: 1.0000000\n",
      "Iter:   98 | Cost: 0.0000020 | Accuracy: 1.0000000\n",
      "Iter:   99 | Cost: 0.0000016 | Accuracy: 1.0000000\n",
      "Iter:  100 | Cost: 0.0000017 | Accuracy: 1.0000000\n"
     ]
    }
   ],
   "source": [
    "weights = weights_init\n",
    "bias = bias_init\n",
    "for it in range(100):\n",
    "\n",
    "    # Update the weights by one optimizer step, using only a limited batch of data\n",
    "    batch_index = np.random.randint(0, len(X), (batch_size,))\n",
    "    X_batch = X[batch_index]\n",
    "    Y_batch = Y[batch_index]\n",
    "    weights, bias = opt.step(cost_n, weights, bias, X=X_batch, Y=Y_batch)\n",
    "\n",
    "    # Compute accuracy\n",
    "    predictions_n = [np.sign(variational_classifier_n(weights, bias, x)) for x in X]\n",
    "\n",
    "    current_cost_n = cost_n(weights, bias, X, Y)\n",
    "    acc_n = accuracy(Y, predictions_n)\n",
    "\n",
    "    print(f\"Iter: {it+1:4d} | Cost: {current_cost_n:0.7f} | Accuracy: {acc_n:0.7f}\")"
   ]
  },
  {
   "cell_type": "code",
   "execution_count": 22,
   "id": "5b55d93c",
   "metadata": {},
   "outputs": [
    {
     "name": "stdout",
     "output_type": "stream",
     "text": [
      "x = [0 0 0 0], y = -1, pred=-1.0\n",
      "x = [0 0 1 1], y = -1, pred=-1.0\n",
      "x = [1 0 1 0], y = -1, pred=-1.0\n",
      "x = [1 1 1 0], y = 1, pred=1.0\n",
      "x = [1 1 0 0], y = -1, pred=-1.0\n",
      "x = [1 1 0 1], y = 1, pred=1.0\n",
      "Accuracy on unseen data: 1.0\n"
     ]
    }
   ],
   "source": [
    "data = np.loadtxt(\"variational_classifier/data/parity_test.txt\", dtype=int)\n",
    "X_test = np.array(data[:, :-1])\n",
    "X_test = np.array(data[:, :-1])\n",
    "Y_test = np.array(data[:, -1])\n",
    "Y_test = Y_test * 2 - 1  # shift label from {0, 1} to {-1, 1}\n",
    "\n",
    "predictions_test = [np.sign(variational_classifier(weights, bias, x)) for x in X_test]\n",
    "\n",
    "for x,y,p in zip(X_test, Y_test, predictions_test):\n",
    "    print(f\"x = {x}, y = {y}, pred={p}\")\n",
    "\n",
    "acc_test = accuracy(Y_test, predictions_test)\n",
    "print(\"Accuracy on unseen data:\", acc_test)"
   ]
  },
  {
   "cell_type": "code",
   "execution_count": 23,
   "id": "7de94b3d",
   "metadata": {},
   "outputs": [
    {
     "name": "stdout",
     "output_type": "stream",
     "text": [
      "x = [0 0 0 0], y = -1, pred=-1.0\n",
      "x = [0 0 1 1], y = -1, pred=-1.0\n",
      "x = [1 0 1 0], y = -1, pred=-1.0\n",
      "x = [1 1 1 0], y = 1, pred=1.0\n",
      "x = [1 1 0 0], y = -1, pred=-1.0\n",
      "x = [1 1 0 1], y = 1, pred=1.0\n",
      "Accuracy on unseen data: 1.0\n"
     ]
    }
   ],
   "source": [
    "data = np.loadtxt(\"variational_classifier/data/parity_test.txt\", dtype=int)\n",
    "X_test = np.array(data[:, :-1])\n",
    "X_test = np.array(data[:, :-1])\n",
    "Y_test = np.array(data[:, -1])\n",
    "Y_test = Y_test * 2 - 1  # shift label from {0, 1} to {-1, 1}\n",
    "\n",
    "predictions_test = [np.sign(variational_classifier_n(weights, bias, x)) for x in X_test]\n",
    "\n",
    "for x,y,p in zip(X_test, Y_test, predictions_test):\n",
    "    print(f\"x = {x}, y = {y}, pred={p}\")\n",
    "\n",
    "acc_test = accuracy(Y_test, predictions_test)\n",
    "print(\"Accuracy on unseen data:\", acc_test)"
   ]
  },
  {
   "cell_type": "markdown",
   "id": "c946cecd",
   "metadata": {},
   "source": [
    "# 2. Iris classification"
   ]
  },
  {
   "cell_type": "markdown",
   "id": "6554767c",
   "metadata": {},
   "source": [
    " Iris dataset is two dimentional real-valued vectors. This data set is accompanied by the latent dimensions. Therefore, instead of using basis encoding, rotation encoding is utilized on two qubits. Every input is translated as angles that information of that data encoded in via rotation gates. "
   ]
  },
  {
   "cell_type": "markdown",
   "id": "ea92139f",
   "metadata": {},
   "source": [
    "The dataset has 4 components. The following function (get_angles) encodes the information of X in to five angles. https://pennylane.ai/qml/demos/tutorial_variational_classifier/"
   ]
  },
  {
   "cell_type": "markdown",
   "id": "dc047ab3",
   "metadata": {},
   "source": [
    "## 1-state preparation"
   ]
  },
  {
   "cell_type": "markdown",
   "id": "170cfe6e",
   "metadata": {},
   "source": [
    "The rutine for encoding input to quantum state is implemented using the two following function: (see reference https://arxiv.org/pdf/quant-ph/0407010)"
   ]
  },
  {
   "cell_type": "code",
   "execution_count": 24,
   "id": "733bf140",
   "metadata": {},
   "outputs": [],
   "source": [
    "def get_angles(x):\n",
    "    beta0 = 2 * np.arcsin(np.sqrt(x[1] ** 2) / np.sqrt(x[0] ** 2 + x[1] ** 2 + 1e-12))\n",
    "    beta1 = 2 * np.arcsin(np.sqrt(x[3] ** 2) / np.sqrt(x[2] ** 2 + x[3] ** 2 + 1e-12))\n",
    "    beta2 = 2 * np.arcsin(np.linalg.norm(x[2:]) / np.linalg.norm(x))\n",
    "\n",
    "    return np.array([beta2, -beta1 / 2, beta1 / 2, -beta0 / 2, beta0 / 2])\n",
    "\n",
    "\n",
    "def state_preparation(a):\n",
    "    qml.RY(a[0], wires=0)\n",
    "\n",
    "    qml.CNOT(wires=[0, 1])\n",
    "    qml.RY(a[1], wires=1)\n",
    "    qml.CNOT(wires=[0, 1])\n",
    "    qml.RY(a[2], wires=1)\n",
    "\n",
    "    qml.PauliX(wires=0)\n",
    "    qml.CNOT(wires=[0, 1])\n",
    "    qml.RY(a[3], wires=1)\n",
    "    qml.CNOT(wires=[0, 1])\n",
    "    qml.RY(a[4], wires=1)\n",
    "    qml.PauliX(wires=0)"
   ]
  },
  {
   "cell_type": "markdown",
   "id": "12d83d07",
   "metadata": {},
   "source": [
    "**The quantum circuit for encoding data**"
   ]
  },
  {
   "cell_type": "code",
   "execution_count": 25,
   "id": "465fde31",
   "metadata": {},
   "outputs": [
    {
     "data": {
      "image/png": "[encoded data removed]",
      "text/plain": [
       "<Figure size 1200x300 with 1 Axes>"
      ]
     },
     "metadata": {},
     "output_type": "display_data"
    }
   ],
   "source": [
    "import matplotlib.pyplot as plt\n",
    "qml.drawer.use_style(\"black_white\")\n",
    "params = np.array([0]*5)\n",
    "fig, ax = qml.draw_mpl(state_preparation)(params)\n",
    "plt.show()"
   ]
  },
  {
   "cell_type": "markdown",
   "id": "0ff32007",
   "metadata": {},
   "source": [
    "**Testing if the output of the quantum encoding circuit leads to the real data**"
   ]
  },
  {
   "cell_type": "code",
   "execution_count": 26,
   "id": "6634d972",
   "metadata": {},
   "outputs": [
    {
     "name": "stdout",
     "output_type": "stream",
     "text": [
      "x               :  [0.538968 0.795036 0.278265 0.      ]\n",
      "angles          :  [ 0.563975 -0.        0.       -0.975046  0.975046]\n",
      "amplitude vector:  [ 0.538968  0.        0.        0.        0.795036  0.        0.\n",
      "  0.        0.278265  0.        0.        0.       -0.        0.\n",
      "  0.        0.      ]\n"
     ]
    }
   ],
   "source": [
    "x = np.array([0.53896774, 0.79503606, 0.27826503, 0.0], requires_grad=False)\n",
    "ang = get_angles(x)\n",
    "\n",
    "\n",
    "@qml.qnode(dev)\n",
    "def test(angles):\n",
    "    state_preparation(angles)\n",
    "\n",
    "    return qml.state()\n",
    "\n",
    "\n",
    "state = test(ang)\n",
    "\n",
    "print(\"x               : \", np.round(x, 6))\n",
    "print(\"angles          : \", np.round(ang, 6))\n",
    "print(\"amplitude vector: \", np.round(np.real(state), 6))"
   ]
  },
  {
   "cell_type": "markdown",
   "id": "23b1925f",
   "metadata": {},
   "source": [
    "**Since data set is encoded on two qubit, training layer function must be modified**"
   ]
  },
  {
   "cell_type": "code",
   "execution_count": 27,
   "id": "2dfabe70",
   "metadata": {},
   "outputs": [],
   "source": [
    "def layer(layer_weights):\n",
    "    for wire in range(2):\n",
    "        qml.Rot(*layer_weights[wire], wires=wire)\n",
    "    qml.CNOT(wires=[0, 1])"
   ]
  },
  {
   "cell_type": "markdown",
   "id": "283f8655",
   "metadata": {},
   "source": [
    "**Demonstration of the layer**"
   ]
  },
  {
   "cell_type": "code",
   "execution_count": 28,
   "id": "71532705",
   "metadata": {},
   "outputs": [
    {
     "data": {
      "image/png": "[encoded data removed]",
      "text/plain": [
       "<Figure size 500x300 with 1 Axes>"
      ]
     },
     "metadata": {},
     "output_type": "display_data"
    }
   ],
   "source": [
    "import matplotlib.pyplot as plt\n",
    "qml.drawer.use_style(\"black_white\")\n",
    "par = [[0,0,0],[0,0,0]]\n",
    "fig, ax = qml.draw_mpl(layer)(par)\n",
    "plt.show()"
   ]
  },
  {
   "cell_type": "markdown",
   "id": "52d39e79",
   "metadata": {},
   "source": [
    "**Cost function based on square_loss function L2 norm of the difference between prdicted value by QC and the real data label**"
   ]
  },
  {
   "cell_type": "code",
   "execution_count": 29,
   "id": "176900a9",
   "metadata": {},
   "outputs": [],
   "source": [
    "def cost(weights, bias, X, Y):\n",
    "    # Transpose the batch of input data in order to make the indexing\n",
    "    # in state_preparation work\n",
    "    predictions = variational_classifier(weights, bias, X.T)\n",
    "    return square_loss(Y, predictions)"
   ]
  },
  {
   "cell_type": "markdown",
   "id": "397bd17e",
   "metadata": {},
   "source": [
    "Loading data- Padding data - Normalizing data"
   ]
  },
  {
   "cell_type": "code",
   "execution_count": 30,
   "id": "0c147d1f",
   "metadata": {},
   "outputs": [
    {
     "name": "stdout",
     "output_type": "stream",
     "text": [
      "First X sample (original)  : [0.4  0.75]\n",
      "First X sample (padded)    : [0.4  0.75 0.1  0.1 ]\n",
      "First X sample (normalized): [0.46420708 0.87038828 0.11605177 0.11605177]\n",
      "First features sample      : [ 0.32973573 -0.78539816  0.78539816 -1.080839    1.080839  ]\n"
     ]
    }
   ],
   "source": [
    "data = np.loadtxt(\"variational_classifier/data/Iris.txt\")\n",
    "X = data[:, 0:2]\n",
    "print(f\"First X sample (original)  : {X[0]}\")\n",
    "\n",
    "# pad the vectors to size 2^2=4 with constant values\n",
    "padding = np.ones((len(X), 2)) * 0.1\n",
    "X_pad = np.c_[X, padding]\n",
    "print(f\"First X sample (padded)    : {X_pad[0]}\")\n",
    "\n",
    "# normalize each input\n",
    "normalization = np.sqrt(np.sum(X_pad**2, -1))\n",
    "X_norm = (X_pad.T / normalization).T\n",
    "print(f\"First X sample (normalized): {X_norm[0]}\")\n",
    "\n",
    "# the angles for state preparation are the features\n",
    "features = np.array([get_angles(x) for x in X_norm], requires_grad=False)\n",
    "print(f\"First features sample      : {features[0]}\")\n",
    "\n",
    "Y = data[:, -1]"
   ]
  },
  {
   "cell_type": "markdown",
   "id": "7758b06c",
   "metadata": {},
   "source": [
    "The following figures show how original data, padded normalized data, and feature vectores are distributed and distinguished based on their labels. "
   ]
  },
  {
   "cell_type": "code",
   "execution_count": 31,
   "id": "e870f62c",
   "metadata": {},
   "outputs": [
    {
     "data": {
      "image/png": "[encoded data removed]",
      "text/plain": [
       "<Figure size 640x480 with 1 Axes>"
      ]
     },
     "metadata": {},
     "output_type": "display_data"
    },
    {
     "data": {
      "image/png": "[encoded data removed]",
      "text/plain": [
       "<Figure size 640x480 with 1 Axes>"
      ]
     },
     "metadata": {},
     "output_type": "display_data"
    },
    {
     "data": {
      "image/png": "[encoded data removed]",
      "text/plain": [
       "<Figure size 640x480 with 1 Axes>"
      ]
     },
     "metadata": {},
     "output_type": "display_data"
    }
   ],
   "source": [
    "import matplotlib.pyplot as plt\n",
    "\n",
    "plt.figure()\n",
    "plt.scatter(X[:, 0][Y == 1], X[:, 1][Y == 1], c=\"b\", marker=\"o\", ec=\"k\")\n",
    "plt.scatter(X[:, 0][Y == -1], X[:, 1][Y == -1], c=\"r\", marker=\"o\", ec=\"k\")\n",
    "plt.title(\"Original data\")\n",
    "plt.show()\n",
    "\n",
    "plt.figure()\n",
    "dim1 = 0\n",
    "dim2 = 1\n",
    "plt.scatter(X_norm[:, dim1][Y == 1], X_norm[:, dim2][Y == 1], c=\"b\", marker=\"o\", ec=\"k\")\n",
    "plt.scatter(X_norm[:, dim1][Y == -1], X_norm[:, dim2][Y == -1], c=\"r\", marker=\"o\", ec=\"k\")\n",
    "plt.title(f\"Padded and normalised data (dims {dim1} and {dim2})\")\n",
    "plt.show()\n",
    "\n",
    "plt.figure()\n",
    "dim1 = 0\n",
    "dim2 = 3\n",
    "plt.scatter(features[:, dim1][Y == 1], features[:, dim2][Y == 1], c=\"b\", marker=\"o\", ec=\"k\")\n",
    "plt.scatter(features[:, dim1][Y == -1], features[:, dim2][Y == -1], c=\"r\", marker=\"o\", ec=\"k\")\n",
    "plt.title(f\"Feature vectors (dims {dim1} and {dim2})\")\n",
    "plt.show()"
   ]
  },
  {
   "cell_type": "markdown",
   "id": "dc0a0e46",
   "metadata": {},
   "source": [
    "**Separating training data and validation data**"
   ]
  },
  {
   "cell_type": "code",
   "execution_count": 32,
   "id": "0339c96e",
   "metadata": {},
   "outputs": [],
   "source": [
    "np.random.seed(0)\n",
    "num_data = len(Y)\n",
    "num_train = int(0.75 * num_data)\n",
    "index = np.random.permutation(range(num_data))\n",
    "feats_train = features[index[:num_train]]\n",
    "Y_train = Y[index[:num_train]]\n",
    "feats_val = features[index[num_train:]]\n",
    "Y_val = Y[index[num_train:]]\n",
    "\n",
    "# We need these later for plotting\n",
    "X_train = X[index[:num_train]]\n",
    "X_val = X[index[num_train:]]"
   ]
  },
  {
   "cell_type": "markdown",
   "id": "df6866ab",
   "metadata": {},
   "source": [
    "**Initialize the quanutm network parameters, depth, and width**"
   ]
  },
  {
   "cell_type": "code",
   "execution_count": 33,
   "id": "52d69abf",
   "metadata": {},
   "outputs": [],
   "source": [
    "num_qubits = 2\n",
    "num_layers = 6\n",
    "\n",
    "weights_init = 0.01 * np.random.randn(num_layers, num_qubits, 3, requires_grad=True)\n",
    "bias_init = np.array(0.0, requires_grad=True)"
   ]
  },
  {
   "cell_type": "markdown",
   "id": "b23d287c",
   "metadata": {},
   "source": [
    "# Optimization"
   ]
  },
  {
   "cell_type": "code",
   "execution_count": 34,
   "id": "f787853c",
   "metadata": {},
   "outputs": [
    {
     "name": "stdout",
     "output_type": "stream",
     "text": [
      "Iter:     2 | Cost: 1.6589456 | Acc train: 0.4800000 | Acc validation: 0.5600000\n",
      "Iter:     4 | Cost: 1.2054273 | Acc train: 0.4933333 | Acc validation: 0.5600000\n",
      "Iter:     6 | Cost: 0.9740740 | Acc train: 0.4933333 | Acc validation: 0.7200000\n",
      "Iter:     8 | Cost: 0.9660872 | Acc train: 0.6400000 | Acc validation: 0.6400000\n",
      "Iter:    10 | Cost: 0.9569019 | Acc train: 0.6000000 | Acc validation: 0.6000000\n",
      "Iter:    12 | Cost: 0.9445863 | Acc train: 0.4933333 | Acc validation: 0.7200000\n",
      "Iter:    14 | Cost: 1.0339978 | Acc train: 0.4800000 | Acc validation: 0.5600000\n",
      "Iter:    16 | Cost: 1.0774217 | Acc train: 0.4933333 | Acc validation: 0.5600000\n",
      "Iter:    18 | Cost: 0.9984426 | Acc train: 0.4800000 | Acc validation: 0.5600000\n",
      "Iter:    20 | Cost: 0.8975279 | Acc train: 0.5600000 | Acc validation: 0.7600000\n",
      "Iter:    22 | Cost: 0.8451699 | Acc train: 0.6400000 | Acc validation: 0.6400000\n",
      "Iter:    24 | Cost: 0.8337489 | Acc train: 0.5600000 | Acc validation: 0.5200000\n",
      "Iter:    26 | Cost: 0.7832025 | Acc train: 0.6000000 | Acc validation: 0.6000000\n",
      "Iter:    28 | Cost: 0.7397515 | Acc train: 0.6133333 | Acc validation: 0.6000000\n",
      "Iter:    30 | Cost: 0.6690522 | Acc train: 0.6666667 | Acc validation: 0.6400000\n",
      "Iter:    32 | Cost: 0.5640186 | Acc train: 0.8266667 | Acc validation: 0.8000000\n",
      "Iter:    34 | Cost: 0.4765597 | Acc train: 0.8933333 | Acc validation: 0.8800000\n",
      "Iter:    36 | Cost: 0.4144135 | Acc train: 0.9200000 | Acc validation: 0.9600000\n",
      "Iter:    38 | Cost: 0.3569566 | Acc train: 0.9600000 | Acc validation: 1.0000000\n",
      "Iter:    40 | Cost: 0.3186159 | Acc train: 0.9866667 | Acc validation: 1.0000000\n",
      "Iter:    42 | Cost: 0.2853043 | Acc train: 0.9866667 | Acc validation: 1.0000000\n",
      "Iter:    44 | Cost: 0.2652725 | Acc train: 1.0000000 | Acc validation: 1.0000000\n",
      "Iter:    46 | Cost: 0.2525848 | Acc train: 1.0000000 | Acc validation: 1.0000000\n",
      "Iter:    48 | Cost: 0.2444278 | Acc train: 1.0000000 | Acc validation: 1.0000000\n",
      "Iter:    50 | Cost: 0.2436316 | Acc train: 0.9866667 | Acc validation: 1.0000000\n",
      "Iter:    52 | Cost: 0.2376316 | Acc train: 1.0000000 | Acc validation: 1.0000000\n",
      "Iter:    54 | Cost: 0.2307475 | Acc train: 1.0000000 | Acc validation: 1.0000000\n",
      "Iter:    56 | Cost: 0.2341245 | Acc train: 1.0000000 | Acc validation: 1.0000000\n",
      "Iter:    58 | Cost: 0.2292663 | Acc train: 1.0000000 | Acc validation: 1.0000000\n",
      "Iter:    60 | Cost: 0.2241948 | Acc train: 1.0000000 | Acc validation: 1.0000000\n"
     ]
    }
   ],
   "source": [
    "opt = NesterovMomentumOptimizer(0.01)\n",
    "batch_size = 5\n",
    "\n",
    "# train the variational classifier\n",
    "weights = weights_init\n",
    "bias = bias_init\n",
    "for it in range(60):\n",
    "    # Update the weights by one optimizer step\n",
    "    batch_index = np.random.randint(0, num_train, (batch_size,))\n",
    "    feats_train_batch = feats_train[batch_index]\n",
    "    Y_train_batch = Y_train[batch_index]\n",
    "    weights, bias, _, _ = opt.step(cost, weights, bias, feats_train_batch, Y_train_batch)\n",
    "\n",
    "    # Compute predictions on train and validation set\n",
    "    predictions_train = np.sign(variational_classifier(weights, bias, feats_train.T))\n",
    "    predictions_val = np.sign(variational_classifier(weights, bias, feats_val.T))\n",
    "\n",
    "    # Compute accuracy on train and validation set\n",
    "    acc_train = accuracy(Y_train, predictions_train)\n",
    "    acc_val = accuracy(Y_val, predictions_val)\n",
    "\n",
    "    if (it + 1) % 2 == 0:\n",
    "        _cost = cost(weights, bias, features, Y)\n",
    "        print(\n",
    "            f\"Iter: {it + 1:5d} | Cost: {_cost:0.7f} | \"\n",
    "            f\"Acc train: {acc_train:0.7f} | Acc validation: {acc_val:0.7f}\"\n",
    "        )"
   ]
  },
  {
   "cell_type": "markdown",
   "id": "8cb66733",
   "metadata": {},
   "source": [
    "The following codes visualize the continuous output of the variational classifier for the first two dimensions of the Iris dataset. Line [0,0] related to z=0 indicates the boundry that classifies the data."
   ]
  },
  {
   "cell_type": "code",
   "execution_count": 35,
   "id": "515064ef",
   "metadata": {},
   "outputs": [
    {
     "data": {
      "image/png": "[encoded data removed]",
      "text/plain": [
       "<Figure size 640x480 with 2 Axes>"
      ]
     },
     "metadata": {},
     "output_type": "display_data"
    }
   ],
   "source": [
    "plt.figure()\n",
    "cm = plt.cm.RdBu\n",
    "\n",
    "# make data for decision regions\n",
    "xx, yy = np.meshgrid(np.linspace(0.0, 1.5, 30), np.linspace(0.0, 1.5, 30))\n",
    "X_grid = [np.array([x, y]) for x, y in zip(xx.flatten(), yy.flatten())]\n",
    "\n",
    "# preprocess grid points like data inputs above\n",
    "padding = 0.1 * np.ones((len(X_grid), 2))\n",
    "X_grid = np.c_[X_grid, padding]  # pad each input\n",
    "normalization = np.sqrt(np.sum(X_grid**2, -1))\n",
    "X_grid = (X_grid.T / normalization).T  # normalize each input\n",
    "features_grid = np.array([get_angles(x) for x in X_grid])  # angles are new features\n",
    "predictions_grid = variational_classifier(weights, bias, features_grid.T)\n",
    "Z = np.reshape(predictions_grid, xx.shape)\n",
    "\n",
    "# plot decision regions\n",
    "levels = np.arange(-1, 1.1, 0.1)\n",
    "cnt = plt.contourf(xx, yy, Z, levels=levels, cmap=cm, alpha=0.8, extend=\"both\")\n",
    "plt.contour(xx, yy, Z, levels=[0.0], colors=(\"black\",), linestyles=(\"--\",), linewidths=(0.8,))\n",
    "plt.colorbar(cnt, ticks=[-1, 0, 1])\n",
    "\n",
    "# plot data\n",
    "for color, label in zip([\"b\", \"r\"], [1, -1]):\n",
    "    plot_x = X_train[:, 0][Y_train == label]\n",
    "    plot_y = X_train[:, 1][Y_train == label]\n",
    "    plt.scatter(plot_x, plot_y, c=color, marker=\"o\", ec=\"k\", label=f\"class {label} train\")\n",
    "    plot_x = (X_val[:, 0][Y_val == label],)\n",
    "    plot_y = (X_val[:, 1][Y_val == label],)\n",
    "    plt.scatter(plot_x, plot_y, c=color, marker=\"^\", ec=\"k\", label=f\"class {label} validation\")\n",
    "\n",
    "\n",
    "plt.legend()\n",
    "plt.show()"
   ]
  },
  {
   "cell_type": "code",
   "execution_count": null,
   "id": "c3078c79",
   "metadata": {},
   "outputs": [],
   "source": []
  }
 ],
 "metadata": {
  "kernelspec": {
   "display_name": "Python 3 (ipykernel)",
   "language": "python",
   "name": "python3"
  },
  "language_info": {
   "codemirror_mode": {
    "name": "ipython",
    "version": 3
   },
   "file_extension": ".py",
   "mimetype": "text/x-python",
   "name": "python",
   "nbconvert_exporter": "python",
   "pygments_lexer": "ipython3",
   "version": "3.11.5"
  }
 },
 "nbformat": 4,
 "nbformat_minor": 5
}
