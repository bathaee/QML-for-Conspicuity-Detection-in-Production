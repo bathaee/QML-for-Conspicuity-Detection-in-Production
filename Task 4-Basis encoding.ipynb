{
 "cells": [
  {
   "cell_type": "code",
   "execution_count": 1,
   "id": "87378102",
   "metadata": {},
   "outputs": [],
   "source": [
    "import pennylane as qml\n",
    "from pennylane import numpy as np\n",
    "from pennylane.optimize import NesterovMomentumOptimizer\n",
    "import matplotlib.pyplot as plt"
   ]
  },
  {
   "cell_type": "code",
   "execution_count": 116,
   "id": "6c8fe8aa",
   "metadata": {},
   "outputs": [
    {
     "name": "stdout",
     "output_type": "stream",
     "text": [
      "['00000', '00001', '00011', '00100', '00110', '01000', '01001', '01011', '01101', '01110']\n"
     ]
    }
   ],
   "source": [
    "N = 20 #total_samples\n",
    "B = 5  #Number of bits used for presenting data\n",
    "\n",
    "# Step 1: Generate N real numbers between 0 and 2π\n",
    "x = np.linspace(0, 2 * np.pi, N)\n",
    "numbers = x\n",
    "\n",
    "# Step 2: Normalize the numbers to a range suitable for bit conversion\n",
    "min_val = 0\n",
    "max_val = 2 * np.pi\n",
    "normalized_numbers = (numbers - min_val) / (max_val - min_val)\n",
    "\n",
    "# Step 3: Convert the normalized numbers to integers\n",
    "int_numbers = (normalized_numbers * (2**B - 1)).astype(int)  # Using B bits\n",
    "\n",
    "# Step 4: Convert the integers to bit strings\n",
    "bit_strings = [format(num, f'0{B}b') for num in int_numbers]  # 4-bit binary strings\n",
    "\n",
    "# Print the first 10 bit strings as an example\n",
    "print(bit_strings[:10])\n"
   ]
  },
  {
   "cell_type": "code",
   "execution_count": 117,
   "id": "0742e368",
   "metadata": {},
   "outputs": [
    {
     "name": "stdout",
     "output_type": "stream",
     "text": [
      "[[0, 0, 0, 0, 0], [0, 0, 0, 0, 1], [0, 0, 0, 1, 1], [0, 0, 1, 0, 0], [0, 0, 1, 1, 0], [0, 1, 0, 0, 0], [0, 1, 0, 0, 1], [0, 1, 0, 1, 1], [0, 1, 1, 0, 1], [0, 1, 1, 1, 0], [1, 0, 0, 0, 0], [1, 0, 0, 0, 1], [1, 0, 0, 1, 1], [1, 0, 1, 0, 1], [1, 0, 1, 1, 0], [1, 1, 0, 0, 0], [1, 1, 0, 1, 0], [1, 1, 0, 1, 1], [1, 1, 1, 0, 1], [1, 1, 1, 1, 1]]\n"
     ]
    }
   ],
   "source": [
    "XX = []\n",
    "for i in range(N):\n",
    "    result_list = [int(digit) for digit in bit_strings[i]]\n",
    "    XX.append(result_list)\n",
    "print(XX) \n"
   ]
  },
  {
   "cell_type": "code",
   "execution_count": 118,
   "id": "eeb2de03",
   "metadata": {},
   "outputs": [
    {
     "name": "stdout",
     "output_type": "stream",
     "text": [
      "['00100', '00110', '00111', '01001', '01001', '01001', '01001', '01000', '00111', '00101', '00100', '00010', '00001', '00000', '00000', '00000', '00000', '00001', '00011', '00100']\n"
     ]
    }
   ],
   "source": [
    "# Step 1: Generate N real numbers between 1+sin(0) and 1+sin(2π)\n",
    "y = 1+np.sin(x)\n",
    "numbers = y\n",
    "\n",
    "# Step 2: Normalize the numbers to a range suitable for bit conversion\n",
    "min_val = 0\n",
    "max_val = 2 * np.pi\n",
    "normalized_numbers = (numbers - min_val) / (max_val - min_val)\n",
    "\n",
    "# Step 3: Convert the normalized numbers to integers\n",
    "int_numbers_y = (normalized_numbers * (2**B - 1)).astype(int)  # Using B bits\n",
    "\n",
    "#Step 4: Convert the integers to bit strings\n",
    "bit_strings = [format(num, f'0{B}b') for num in int_numbers_y]  # 4-bit binary strings\n",
    "\n",
    "#Print the first 10 bit strings as an example\n",
    "print(bit_strings)\n"
   ]
  },
  {
   "cell_type": "code",
   "execution_count": 119,
   "id": "1be28275",
   "metadata": {},
   "outputs": [
    {
     "name": "stdout",
     "output_type": "stream",
     "text": [
      "[[0, 0, 1, 0, 0], [0, 0, 1, 1, 0], [0, 0, 1, 1, 1], [0, 1, 0, 0, 1], [0, 1, 0, 0, 1], [0, 1, 0, 0, 1], [0, 1, 0, 0, 1], [0, 1, 0, 0, 0], [0, 0, 1, 1, 1], [0, 0, 1, 0, 1], [0, 0, 1, 0, 0], [0, 0, 0, 1, 0], [0, 0, 0, 0, 1], [0, 0, 0, 0, 0], [0, 0, 0, 0, 0], [0, 0, 0, 0, 0], [0, 0, 0, 0, 0], [0, 0, 0, 0, 1], [0, 0, 0, 1, 1], [0, 0, 1, 0, 0]]\n"
     ]
    }
   ],
   "source": [
    "YY=[]\n",
    "for j in range(N):\n",
    "    result_list = [int(digit) for digit in bit_strings[j]]\n",
    "    YY.append(result_list)\n",
    "print(YY)"
   ]
  },
  {
   "cell_type": "code",
   "execution_count": 120,
   "id": "a3db91f8",
   "metadata": {},
   "outputs": [
    {
     "data": {
      "image/png": "[encoded data removed]",
      "text/plain": [
       "<Figure size 640x480 with 1 Axes>"
      ]
     },
     "metadata": {},
     "output_type": "display_data"
    }
   ],
   "source": [
    "plt.scatter(int_numbers,int_numbers_y)\n",
    "plt.show()"
   ]
  },
  {
   "cell_type": "code",
   "execution_count": 121,
   "id": "44901b60",
   "metadata": {},
   "outputs": [
    {
     "data": {
      "image/png": "[encoded data removed]",
      "text/plain": [
       "<Figure size 640x480 with 1 Axes>"
      ]
     },
     "metadata": {},
     "output_type": "display_data"
    }
   ],
   "source": [
    "plt.scatter(x,y-1)\n",
    "plt.show()"
   ]
  },
  {
   "cell_type": "code",
   "execution_count": 122,
   "id": "252d1b04",
   "metadata": {},
   "outputs": [
    {
     "name": "stdout",
     "output_type": "stream",
     "text": [
      "x = 0, y = 4\n",
      "x = 1, y = 6\n",
      "x = 3, y = 7\n",
      "x = 4, y = 9\n",
      "x = 6, y = 9\n",
      "x = 8, y = 9\n",
      "x = 9, y = 9\n",
      "x = 11, y = 8\n",
      "x = 13, y = 7\n",
      "x = 14, y = 5\n",
      "x = 16, y = 4\n",
      "x = 17, y = 2\n",
      "x = 19, y = 1\n",
      "x = 21, y = 0\n",
      "x = 22, y = 0\n"
     ]
    }
   ],
   "source": [
    "N1 = int(N-N/4)\n",
    "N2 = int(N/4)\n",
    "train_dataset1 = np.array(int_numbers[:N1])\n",
    "train_label1 = np.array(int_numbers_y[:N1])\n",
    "test_dataset1 = np.array(int_numbers[N1:N])\n",
    "test_label1 = np.array(int_numbers_y[N1:N])\n",
    "\n",
    "for x,y in zip(train_dataset1, train_label1):\n",
    "    print(f\"x = {x}, y = {y}\")"
   ]
  },
  {
   "cell_type": "code",
   "execution_count": 123,
   "id": "8d7aa74f",
   "metadata": {},
   "outputs": [
    {
     "name": "stdout",
     "output_type": "stream",
     "text": [
      "x = [0 0 0 0 0], y = [0 0 1 0 0]\n",
      "x = [0 0 0 0 1], y = [0 0 1 1 0]\n",
      "x = [0 0 0 1 1], y = [0 0 1 1 1]\n",
      "x = [0 0 1 0 0], y = [0 1 0 0 1]\n",
      "x = [0 0 1 1 0], y = [0 1 0 0 1]\n",
      "x = [0 1 0 0 0], y = [0 1 0 0 1]\n",
      "x = [0 1 0 0 1], y = [0 1 0 0 1]\n",
      "x = [0 1 0 1 1], y = [0 1 0 0 0]\n",
      "x = [0 1 1 0 1], y = [0 0 1 1 1]\n",
      "x = [0 1 1 1 0], y = [0 0 1 0 1]\n",
      "x = [1 0 0 0 0], y = [0 0 1 0 0]\n",
      "x = [1 0 0 0 1], y = [0 0 0 1 0]\n",
      "x = [1 0 0 1 1], y = [0 0 0 0 1]\n",
      "x = [1 0 1 0 1], y = [0 0 0 0 0]\n",
      "x = [1 0 1 1 0], y = [0 0 0 0 0]\n"
     ]
    }
   ],
   "source": [
    "N1 = int(N-N/4)\n",
    "N2 = N-N1\n",
    "train_dataset = np.array(XX[:N1])\n",
    "train_label = np.array(YY[:N1])\n",
    "test_dataset = np.array(XX[N1:N])\n",
    "test_label = np.array(YY[N1:N])\n",
    "\n",
    "for x,y in zip(train_dataset, train_label):\n",
    "    print(f\"x = {x}, y = {y}\")"
   ]
  },
  {
   "cell_type": "code",
   "execution_count": 124,
   "id": "37ca9006",
   "metadata": {},
   "outputs": [],
   "source": [
    "wire_num = B\n",
    "dev = qml.device(\"default.qubit\",wires=wire_num)"
   ]
  },
  {
   "cell_type": "code",
   "execution_count": 125,
   "id": "9ec06cd8",
   "metadata": {},
   "outputs": [],
   "source": [
    "def state_preparation(x):\n",
    "    wi =  list(range(wire_num))\n",
    "    qml.BasisState(x, wires=wi)"
   ]
  },
  {
   "cell_type": "code",
   "execution_count": 126,
   "id": "bd83cb40",
   "metadata": {},
   "outputs": [],
   "source": [
    "tuple1 = ()\n",
    "for i in range(wire_num-1):\n",
    "    list_b = [i,i+1] \n",
    "    tuple1 += (list_b,) "
   ]
  },
  {
   "cell_type": "code",
   "execution_count": 127,
   "id": "e8256137",
   "metadata": {},
   "outputs": [],
   "source": [
    "def layer(layer_weights):\n",
    "    for wire in range(wire_num):\n",
    "        qml.Rot(*layer_weights[wire], wires=wire)\n",
    "    for wires in tuple1:\n",
    "        qml.CNOT(wires)\n",
    "    qml.CNOT([wire_num-1,0])        \n"
   ]
  },
  {
   "cell_type": "code",
   "execution_count": 128,
   "id": "a48ec0d0",
   "metadata": {},
   "outputs": [],
   "source": [
    "@qml.qnode(dev)\n",
    "def circuit(weights, x):\n",
    "    state_preparation(x)\n",
    "\n",
    "    for layer_weights in weights:\n",
    "        layer(layer_weights)\n",
    "\n",
    "    return [qml.expval(qml.PauliZ(i)) for i in range(wire_num)]"
   ]
  },
  {
   "cell_type": "code",
   "execution_count": 129,
   "id": "87383594",
   "metadata": {},
   "outputs": [
    {
     "name": "stdout",
     "output_type": "stream",
     "text": [
      "Weights: [[[ 5.54193389  1.25713095  3.07479606]\n",
      "  [ 7.03997361  5.86710646 -3.07020901]\n",
      "  [ 2.98479079 -0.47550269 -0.32427159]\n",
      "  [ 1.28993324  0.45252622  4.56873497]\n",
      "  [ 2.39087053  0.38225334  1.39443747]]\n",
      "\n",
      " [[ 1.04826882  4.69378784 -0.64452369]\n",
      "  [ 0.98353119 -2.6832209  -8.02045405]\n",
      "  [ 2.05340338  2.71570641 -2.33158018]\n",
      "  [ 7.13064445 -4.56902452  0.14375462]\n",
      "  [-0.58805541  4.81536792  4.61612672]]]\n",
      "Bias:  0.0\n"
     ]
    }
   ],
   "source": [
    "np.random.seed(0)\n",
    "num_qubits = B\n",
    "num_layers = 2\n",
    "weights_init = np.pi * np.random.randn(num_layers, num_qubits, 3, requires_grad=True)\n",
    "bias_init = np.array(0.0, requires_grad=True)\n",
    "\n",
    "\n",
    "print(\"Weights:\", weights_init)\n",
    "print(\"Bias: \", bias_init)"
   ]
  },
  {
   "cell_type": "code",
   "execution_count": 130,
   "id": "f5fbcf7e",
   "metadata": {},
   "outputs": [
    {
     "data": {
      "image/png": "[encoded data removed]",
      "text/plain": [
       "<Figure size 1600x600 with 1 Axes>"
      ]
     },
     "metadata": {},
     "output_type": "display_data"
    }
   ],
   "source": [
    "wei = np.array([0]*3*len(tuple1))\n",
    "import matplotlib.pyplot as plt\n",
    "qml.drawer.use_style(\"black_white\")\n",
    "fig, ax = qml.draw_mpl(circuit)(weights_init, XX)\n",
    "plt.show()"
   ]
  },
  {
   "cell_type": "code",
   "execution_count": 131,
   "id": "822c828e",
   "metadata": {},
   "outputs": [],
   "source": [
    "def variational_functionestimation(weights, bias, x):\n",
    "    return circuit(weights, x)+bias"
   ]
  },
  {
   "cell_type": "code",
   "execution_count": 132,
   "id": "a83489a8",
   "metadata": {},
   "outputs": [
    {
     "name": "stdout",
     "output_type": "stream",
     "text": [
      "[tensor([ 0.1286835 ,  0.09943657, -0.11799   , -0.02711256, -0.376068  ], requires_grad=True), tensor([ 0.10545309,  0.01223249, -0.19498891,  0.0373615 , -0.09318114], requires_grad=True), tensor([-0.06071898,  0.09943657, -0.12671346, -0.04799087, -0.02941268], requires_grad=True), tensor([ 0.00189732, -0.09779858,  0.05281105,  0.01325457, -0.20761781], requires_grad=True), tensor([-0.0782928 , -0.01059451,  0.26889132,  0.03527853,  0.1881235 ], requires_grad=True), tensor([0.16996166, 0.01389947, 0.07395003, 0.04588555, 0.42823651], requires_grad=True), tensor([ 0.08720901,  0.07596656,  0.16612716, -0.0357061 ,  0.14119565], requires_grad=True), tensor([0.01043882, 0.01389947, 0.0628891 , 0.03885133, 0.06098809], requires_grad=True), tensor([ 0.05201775, -0.07760455, -0.23974488,  0.00982422, -0.07013862], requires_grad=True), tensor([-0.08686873, -0.07760455, -0.23374549, -0.0240889 , -0.20404506], requires_grad=True), tensor([-0.15293905, -0.09940457,  0.09680221,  0.03028625, -0.30097602], requires_grad=True), tensor([-0.08119754, -0.01226449,  0.2161767 , -0.04053519,  0.03859435], requires_grad=True), tensor([ 0.07494196, -0.09940457,  0.10552567,  0.05254394, -0.10043398], requires_grad=True), tensor([-0.09980951,  0.01062651, -0.24095103,  0.03200231,  0.08865548], requires_grad=True), tensor([ 0.097792  ,  0.01062651, -0.24358815, -0.03640855,  0.16774688], requires_grad=True)]\n",
      "[[ 0.1286835   0.09943657 -0.11799    -0.02711256 -0.376068  ]\n",
      " [ 0.10545309  0.01223249 -0.19498891  0.0373615  -0.09318114]\n",
      " [-0.06071898  0.09943657 -0.12671346 -0.04799087 -0.02941268]\n",
      " [ 0.00189732 -0.09779858  0.05281105  0.01325457 -0.20761781]\n",
      " [-0.0782928  -0.01059451  0.26889132  0.03527853  0.1881235 ]\n",
      " [ 0.16996166  0.01389947  0.07395003  0.04588555  0.42823651]\n",
      " [ 0.08720901  0.07596656  0.16612716 -0.0357061   0.14119565]\n",
      " [ 0.01043882  0.01389947  0.0628891   0.03885133  0.06098809]\n",
      " [ 0.05201775 -0.07760455 -0.23974488  0.00982422 -0.07013862]\n",
      " [-0.08686873 -0.07760455 -0.23374549 -0.0240889  -0.20404506]\n",
      " [-0.15293905 -0.09940457  0.09680221  0.03028625 -0.30097602]\n",
      " [-0.08119754 -0.01226449  0.2161767  -0.04053519  0.03859435]\n",
      " [ 0.07494196 -0.09940457  0.10552567  0.05254394 -0.10043398]\n",
      " [-0.09980951  0.01062651 -0.24095103  0.03200231  0.08865548]\n",
      " [ 0.097792    0.01062651 -0.24358815 -0.03640855  0.16774688]]\n"
     ]
    }
   ],
   "source": [
    "X = train_dataset\n",
    "a = variational_functionestimation(weights_init, bias_init, X[0])\n",
    "b= [variational_functionestimation(weights_init, bias_init, x) for x in X]\n",
    "print(b)\n",
    "c = qml.math.stack(b)\n",
    "print(c)"
   ]
  },
  {
   "cell_type": "code",
   "execution_count": 133,
   "id": "2d95a7b7",
   "metadata": {},
   "outputs": [
    {
     "name": "stdout",
     "output_type": "stream",
     "text": [
      "[[0 0 1 0 0]\n",
      " [0 0 1 1 0]\n",
      " [0 0 1 1 1]\n",
      " [0 1 0 0 1]\n",
      " [0 1 0 0 1]\n",
      " [0 1 0 0 1]\n",
      " [0 1 0 0 1]\n",
      " [0 1 0 0 0]\n",
      " [0 0 1 1 1]\n",
      " [0 0 1 0 1]\n",
      " [0 0 1 0 0]\n",
      " [0 0 0 1 0]\n",
      " [0 0 0 0 1]\n",
      " [0 0 0 0 0]\n",
      " [0 0 0 0 0]]\n",
      "\n",
      "25.757481193628987\n"
     ]
    }
   ],
   "source": [
    "label = train_label \n",
    "d = np.sum((c-label)** 2)\n",
    "print(label)\n",
    "print()\n",
    "print(d)"
   ]
  },
  {
   "cell_type": "code",
   "execution_count": 134,
   "id": "a4ee8f4d",
   "metadata": {},
   "outputs": [],
   "source": [
    "def square_loss(labels, predictions):\n",
    "    # We use a call to qml.math.stack to allow subtracting the arrays directly\n",
    "    return np.mean((labels - qml.math.stack(predictions)) ** 2)"
   ]
  },
  {
   "cell_type": "code",
   "execution_count": 135,
   "id": "9a2c351d",
   "metadata": {},
   "outputs": [],
   "source": [
    "def cost(weights, bias, X, Y):\n",
    "    predictions = [variational_functionestimation(weights, bias, x) for x in X]\n",
    "    return square_loss(Y, predictions)"
   ]
  },
  {
   "cell_type": "code",
   "execution_count": 136,
   "id": "e6614944",
   "metadata": {},
   "outputs": [],
   "source": [
    "def accuracy(labels, predictions):\n",
    "    acc = sum(sum(abs(l - p)) < 1e-5 for l, p in zip(labels, predictions))\n",
    "    acc = acc / len(labels)\n",
    "    return acc"
   ]
  },
  {
   "cell_type": "code",
   "execution_count": 137,
   "id": "37730da2",
   "metadata": {},
   "outputs": [
    {
     "data": {
      "text/plain": [
       "tensor(0., requires_grad=True)"
      ]
     },
     "execution_count": 137,
     "metadata": {},
     "output_type": "execute_result"
    }
   ],
   "source": [
    "bb = [np.sign(variational_functionestimation(weights_init, bias_init, x)) for x in X]\n",
    "dd =  qml.math.stack(bb)\n",
    "for j in range(len(dd)):\n",
    "    for i in range(len(dd[j])):\n",
    "        if dd[j][i]<0:\n",
    "            dd[j][i]=0\n",
    "            \n",
    "dd \n",
    "acc = sum(abs(l - p) < 1e-5 for l, p in zip(label, dd))\n",
    "acc\n",
    "ar = [sum(abs(l - p)) < 1e-5 for l, p in zip(label, dd)]\n",
    "np.array(accuracy(label, dd))"
   ]
  },
  {
   "cell_type": "code",
   "execution_count": 138,
   "id": "7ae3ce51",
   "metadata": {},
   "outputs": [
    {
     "data": {
      "text/plain": [
       "tensor(0.34343308, requires_grad=True)"
      ]
     },
     "execution_count": 138,
     "metadata": {},
     "output_type": "execute_result"
    }
   ],
   "source": [
    "cost(weights_init, bias_init, train_dataset, train_label)"
   ]
  },
  {
   "cell_type": "code",
   "execution_count": 139,
   "id": "bbfe2063",
   "metadata": {},
   "outputs": [],
   "source": [
    "opt = NesterovMomentumOptimizer(0.5)\n",
    "batch_size = 2"
   ]
  },
  {
   "cell_type": "code",
   "execution_count": 140,
   "id": "c00dd86b",
   "metadata": {},
   "outputs": [
    {
     "name": "stdout",
     "output_type": "stream",
     "text": [
      "Autograd ArrayBox with value [[[ 5.54193389  1.25713095  3.07479606]\n",
      "  [ 7.03997361  5.86710646 -3.07020901]\n",
      "  [ 2.98479079 -0.47550269 -0.32427159]\n",
      "  [ 1.28993324  0.45252622  4.56873497]\n",
      "  [ 2.39087053  0.38225334  1.39443747]]\n",
      "\n",
      " [[ 1.04826882  4.69378784 -0.64452369]\n",
      "  [ 0.98353119 -2.6832209  -8.02045405]\n",
      "  [ 2.05340338  2.71570641 -2.33158018]\n",
      "  [ 7.13064445 -4.56902452  0.14375462]\n",
      "  [-0.58805541  4.81536792  4.61612672]]]\n",
      "Autograd ArrayBox with value Autograd ArrayBox with value 0.25702181206768987 0.0\n",
      "Autograd ArrayBox with value [[[ 5.54193389  1.25713095  3.07479606]\n",
      "  [ 7.03997361  5.86710646 -3.07020901]\n",
      "  [ 2.98479079 -0.47550269 -0.32427159]\n",
      "  [ 1.28993324  0.45252622  4.56873497]\n",
      "  [ 2.39087053  0.38225334  1.39443747]]\n",
      "\n",
      " [[ 1.04826882  4.69378784 -0.64452369]\n",
      "  [ 0.98353119 -2.6832209  -8.02045405]\n",
      "  [ 2.05340338  2.71570641 -2.33158018]\n",
      "  [ 7.13064445 -4.56902452  0.14375462]\n",
      "  [-0.58805541  4.81536792  4.61612672]]]\n",
      "Autograd ArrayBox with value Autograd ArrayBox with value 0.25702181206768987 0.0\n",
      "Autograd ArrayBox with value [[[ 5.54193389  1.25713095  3.07479606]\n",
      "  [ 7.03997361  5.86710646 -3.07020901]\n",
      "  [ 2.98479079 -0.47550269 -0.32427159]\n",
      "  [ 1.28993324  0.45252622  4.56873497]\n",
      "  [ 2.39087053  0.38225334  1.39443747]]\n",
      "\n",
      " [[ 1.04826882  4.69378784 -0.64452369]\n",
      "  [ 0.98353119 -2.6832209  -8.02045405]\n",
      "  [ 2.05340338  2.71570641 -2.33158018]\n",
      "  [ 7.13064445 -4.56902452  0.14375462]\n",
      "  [-0.58805541  4.81536792  4.61612672]]]\n",
      "Autograd ArrayBox with value Autograd ArrayBox with value 0.25702181206768987 0.0\n"
     ]
    }
   ],
   "source": [
    "weights = weights_init\n",
    "bias = bias_init\n",
    "for it in range(3):\n",
    "\n",
    "    # Update the weights by one optimizer step, using only a limited batch of data\n",
    "    batch_index = np.random.randint(0, len(train_dataset), (batch_size,))\n",
    "    X_batch = train_dataset[batch_index]\n",
    "    Y_batch = train_label[batch_index]\n",
    "    weights, bias = opt.step(cost, weights, bias, X=X_batch, Y=Y_batch)\n",
    "    print(weights)\n",
    "\n",
    "    # Compute accuracy\n",
    "    bb = [np.sign(variational_functionestimation(weights_init, bias_init, x)) for x in X]\n",
    "    dd =  qml.math.stack(bb)\n",
    "    for j in range(len(dd)):\n",
    "        for i in range(len(dd[j])):\n",
    "            if dd[j][i]<0:\n",
    "                dd[j][i]=0\n",
    "    predictions = dd\n",
    "    \n",
    "    current_cost = cost(weights, bias, train_dataset, train_label)\n",
    "    acc = accuracy(train_label, predictions)\n",
    "    \n",
    "\n",
    "    print(current_cost,acc)"
   ]
  },
  {
   "cell_type": "markdown",
   "id": "f34092c2",
   "metadata": {},
   "source": [
    "**Cost does not change**"
   ]
  },
  {
   "cell_type": "code",
   "execution_count": null,
   "id": "7c834afb",
   "metadata": {},
   "outputs": [],
   "source": []
  }
 ],
 "metadata": {
  "kernelspec": {
   "display_name": "Python 3 (ipykernel)",
   "language": "python",
   "name": "python3"
  },
  "language_info": {
   "codemirror_mode": {
    "name": "ipython",
    "version": 3
   },
   "file_extension": ".py",
   "mimetype": "text/x-python",
   "name": "python",
   "nbconvert_exporter": "python",
   "pygments_lexer": "ipython3",
   "version": "3.11.5"
  }
 },
 "nbformat": 4,
 "nbformat_minor": 5
}
